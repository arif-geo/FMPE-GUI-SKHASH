{
 "cells": [
  {
   "cell_type": "code",
   "execution_count": 12,
   "metadata": {},
   "outputs": [
    {
     "name": "stdout",
     "output_type": "stream",
     "text": [
      "(2,)\n",
      "(2,)\n"
     ]
    }
   ],
   "source": [
    "import pandas as pd\n",
    "import os\n",
    "\n",
    "mseed_list = [f.split('.')[0] for f in os.listdir('./TestData/mseed')]\n",
    "\n",
    "df = pd.read_csv('./TestData/skhash_input/PhasePicks_my_standard.csv')\n",
    "print(df.event_id.unique().shape)\n",
    "df = df[df['event_id'].isin(mseed_list)]\n",
    "print(df.event_id.unique().shape)\n",
    "df.to_csv('./TestData/skhash_input/PhasePicks_my_standard.csv', index=False)"
   ]
  }
 ],
 "metadata": {
  "kernelspec": {
   "display_name": "obspy",
   "language": "python",
   "name": "python3"
  },
  "language_info": {
   "codemirror_mode": {
    "name": "ipython",
    "version": 3
   },
   "file_extension": ".py",
   "mimetype": "text/x-python",
   "name": "python",
   "nbconvert_exporter": "python",
   "pygments_lexer": "ipython3",
   "version": "3.10.14"
  }
 },
 "nbformat": 4,
 "nbformat_minor": 2
}
